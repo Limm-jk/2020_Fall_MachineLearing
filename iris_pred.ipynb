{
  "nbformat": 4,
  "nbformat_minor": 0,
  "metadata": {
    "colab": {
      "name": "iris_pred.ipynb",
      "provenance": [],
      "collapsed_sections": [],
      "authorship_tag": "ABX9TyPiHH13/OcQ+VfimYzrmo7Q",
      "include_colab_link": true
    },
    "kernelspec": {
      "name": "python3",
      "display_name": "Python 3"
    }
  },
  "cells": [
    {
      "cell_type": "markdown",
      "metadata": {
        "id": "view-in-github",
        "colab_type": "text"
      },
      "source": [
        "<a href=\"https://colab.research.google.com/github/Limm-jk/2020_Fall_MachineLearing/blob/master/iris_pred.ipynb\" target=\"_parent\"><img src=\"https://colab.research.google.com/assets/colab-badge.svg\" alt=\"Open In Colab\"/></a>"
      ]
    },
    {
      "cell_type": "code",
      "metadata": {
        "id": "BLazC885EVpD",
        "outputId": "7f798fd7-e1f7-4303-d843-5aac1bb696ed",
        "colab": {
          "base_uri": "https://localhost:8080/",
          "height": 87
        }
      },
      "source": [
        "import numpy as np\n",
        "import math\n",
        "iris_train = np.loadtxt(\"./iris_train.csv\", delimiter=',', dtype = np.float32)\n",
        "iris_test = np.loadtxt(\"./iris_test.csv\", delimiter=',', dtype = np.float32)\n",
        "\n",
        "print(iris_train[1:5])"
      ],
      "execution_count": null,
      "outputs": [
        {
          "output_type": "stream",
          "text": [
            "[[4.9 3.  1.4 0.2 1. ]\n",
            " [4.7 3.2 1.3 0.2 1. ]\n",
            " [4.6 3.1 1.5 0.2 1. ]\n",
            " [5.  3.6 1.4 0.2 1. ]]\n"
          ],
          "name": "stdout"
        }
      ]
    },
    {
      "cell_type": "code",
      "metadata": {
        "id": "M8LWPx5DIjYB",
        "outputId": "a04b68cb-8e9b-4314-be6b-b49c2ec1613a",
        "colab": {
          "base_uri": "https://localhost:8080/",
          "height": 70
        }
      },
      "source": [
        "# 슬라이싱을 위해 종이 달라지는 index를 찾기\n",
        "train_spe = iris_train[:,4]\n",
        "\n",
        "a = 0\n",
        "for i in range(len(train_spe)):\n",
        "  if a != train_spe[i]:\n",
        "    a = train_spe[i]\n",
        "    print([i,train_spe[i]])"
      ],
      "execution_count": null,
      "outputs": [
        {
          "output_type": "stream",
          "text": [
            "[0, 1.0]\n",
            "[40, 2.0]\n",
            "[80, 3.0]\n"
          ],
          "name": "stdout"
        }
      ]
    },
    {
      "cell_type": "code",
      "metadata": {
        "id": "GAq1T0eKJwL7",
        "outputId": "7762237e-4599-4fcf-f75b-8a5d241104d2",
        "colab": {
          "base_uri": "https://localhost:8080/",
          "height": 34
        }
      },
      "source": [
        "group1 = iris_train[:40,:4]\n",
        "group2 = iris_train[40:80,:4]\n",
        "group3 = iris_train[80:120,:4]\n",
        "# 종에 따라 그룹화\n",
        "# 정렬이 안되있다면 정렬 후 그룹화\n",
        "\n",
        "def avg(arr):\n",
        "  ans = sum(arr)\n",
        "  ans /= len(arr)\n",
        "  return ans\n",
        "def meanV(gr):\n",
        "  # 깔끔하게 보기 위하여 소수점 4번째 자리에서 반올림\n",
        "  v1 = round(avg(gr[:,0]),4)\n",
        "  v2 = round(avg(gr[:,1]),4)\n",
        "  v3 = round(avg(gr[:,2]),4)\n",
        "  v4 = round(avg(gr[:,3]),4)\n",
        "  return [v1,v2,v3,v4]\n",
        "\n",
        "mean1 = meanV(group1)\n",
        "mean2 = meanV(group2)\n",
        "mean3 = meanV(group3)\n",
        "\n",
        "print(meanV(group1))"
      ],
      "execution_count": null,
      "outputs": [
        {
          "output_type": "stream",
          "text": [
            "[5.0375, 3.44, 1.4625, 0.2325]\n"
          ],
          "name": "stdout"
        }
      ]
    },
    {
      "cell_type": "code",
      "metadata": {
        "id": "bB7d3sWUThIC",
        "outputId": "88db786a-e22a-4afa-a645-1f5d9fc2ef8b",
        "colab": {
          "base_uri": "https://localhost:8080/",
          "height": 34
        }
      },
      "source": [
        "# 입력값과 각 벡터 사이 거리 구하기\n",
        "def dist(a, b):\n",
        "  # a와 b의 크기는 같다.\n",
        "  lenth = len(a)\n",
        "  sum = 0\n",
        "  for i in range(lenth):\n",
        "    sum += (a[i]-b[i])**2\n",
        "  return math.sqrt(sum)\n",
        "def minDist(vec):\n",
        "  arr = []\n",
        "  arr.append(dist(mean1, vec))\n",
        "  arr.append(dist(mean2, vec))\n",
        "  arr.append(dist(mean3, vec))\n",
        "  return arr.index(min(arr))+1\n",
        "\n",
        "# 테스트 셋 슬라이싱\n",
        "test = iris_test[:,:4]\n",
        "ans = iris_test[:,4]\n",
        "\n",
        "test_len = len(test)\n",
        "match = 0\n",
        "\n",
        "for i in range(test_len):\n",
        "  if minDist(test[i]) == ans[i]:\n",
        "    match += 1\n",
        "\n",
        "acc = str(round((match/test_len)*100, 4))\n",
        "print('정확도는 '+acc+'% 입니다.')"
      ],
      "execution_count": null,
      "outputs": [
        {
          "output_type": "stream",
          "text": [
            "정확도는 96.6667% 입니다.\n"
          ],
          "name": "stdout"
        }
      ]
    }
  ]
}