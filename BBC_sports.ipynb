{
  "nbformat": 4,
  "nbformat_minor": 0,
  "metadata": {
    "colab": {
      "name": "BBC_sports.ipynb",
      "provenance": [],
      "mount_file_id": "17ibWfsfTSlvvMrFX20rUn190GMLsKB3M",
      "authorship_tag": "ABX9TyPtwufjxf4/R/lFVrpyLtnL",
      "include_colab_link": true
    },
    "kernelspec": {
      "name": "python3",
      "display_name": "Python 3"
    }
  },
  "cells": [
    {
      "cell_type": "markdown",
      "metadata": {
        "id": "view-in-github",
        "colab_type": "text"
      },
      "source": [
        "<a href=\"https://colab.research.google.com/github/Limm-jk/2020_Fall_MachineLearning/blob/master/BBC_sports.ipynb\" target=\"_parent\"><img src=\"https://colab.research.google.com/assets/colab-badge.svg\" alt=\"Open In Colab\"/></a>"
      ]
    },
    {
      "cell_type": "code",
      "metadata": {
        "id": "IdTTG1xdHVIL"
      },
      "source": [
        "import chardet\n",
        "from sklearn.feature_extraction.text import TfidfVectorizer\n",
        "from sklearn.datasets import load_files\n",
        "from sklearn.model_selection import cross_val_score\n",
        "from sklearn.linear_model import LogisticRegression\n",
        "from sklearn.model_selection import train_test_split\n",
        "import numpy as np"
      ],
      "execution_count": 19,
      "outputs": []
    },
    {
      "cell_type": "code",
      "metadata": {
        "id": "6cZbrKL37K-E"
      },
      "source": [
        "# data input\n",
        "file = load_files('/content/drive/MyDrive/Colab Notebooks/bbcsport/')\n",
        "X, y = file.data, file.target"
      ],
      "execution_count": 9,
      "outputs": []
    },
    {
      "cell_type": "code",
      "metadata": {
        "id": "oQu-arN07kMl"
      },
      "source": [
        "for i in range(len(X)):\n",
        "  if chardet.detect(X[i]) != \"utf-8\":\n",
        "    X[i] = X[i].decode(chardet.detect(X[i])['encoding']).encode('utf8')"
      ],
      "execution_count": 11,
      "outputs": []
    },
    {
      "cell_type": "code",
      "metadata": {
        "id": "pgfLc33J8gl9"
      },
      "source": [
        "X = [doc.replace(b\"<br />\",b\"\") for doc in X]\n",
        "X = [doc.replace(b\"\\n\", b\"\") for doc in X]"
      ],
      "execution_count": 13,
      "outputs": []
    },
    {
      "cell_type": "code",
      "metadata": {
        "id": "qZWo_sd0_BWF"
      },
      "source": [
        "vec = TfidfVectorizer(stop_words='english', norm = 'l2')"
      ],
      "execution_count": 24,
      "outputs": []
    },
    {
      "cell_type": "code",
      "metadata": {
        "id": "xD1Xp4cQCpeN"
      },
      "source": [
        "word_vec = vec.fit_transform(X)"
      ],
      "execution_count": 43,
      "outputs": []
    },
    {
      "cell_type": "code",
      "metadata": {
        "colab": {
          "base_uri": "https://localhost:8080/"
        },
        "id": "QndOF-F4DdxJ",
        "outputId": "ee9ffe69-635b-42dc-8e2a-9a3137b90f37"
      },
      "source": [
        "print(word_vec[:5])"
      ],
      "execution_count": 49,
      "outputs": [
        {
          "output_type": "stream",
          "text": [
            "  (0, 6922)\t0.059442081332487004\n",
            "  (0, 9474)\t0.0301872411451481\n",
            "  (0, 8225)\t0.04007796499557697\n",
            "  (0, 8911)\t0.036742663521754176\n",
            "  (0, 2329)\t0.026795804976793142\n",
            "  (0, 6275)\t0.033462393173715\n",
            "  (0, 2629)\t0.04559876568913136\n",
            "  (0, 2958)\t0.059442081332487004\n",
            "  (0, 3812)\t0.04438398078953014\n",
            "  (0, 6383)\t0.059442081332487004\n",
            "  (0, 9478)\t0.031585121002256335\n",
            "  (0, 10052)\t0.05348008979888304\n",
            "  (0, 811)\t0.03482333094560648\n",
            "  (0, 983)\t0.05156075722273533\n",
            "  (0, 2892)\t0.05156075722273533\n",
            "  (0, 6615)\t0.055954539855711666\n",
            "  (0, 6077)\t0.059442081332487004\n",
            "  (0, 11658)\t0.03532943783431424\n",
            "  (0, 1838)\t0.055954539855711666\n",
            "  (0, 8568)\t0.03771744157937969\n",
            "  (0, 218)\t0.059442081332487004\n",
            "  (0, 7368)\t0.059442081332487004\n",
            "  (0, 9382)\t0.019249512235492726\n",
            "  (0, 8053)\t0.0499925483221077\n",
            "  (0, 4826)\t0.055954539855711666\n",
            "  :\t:\n",
            "  (4, 6039)\t0.12735944641772304\n",
            "  (4, 8638)\t0.1709834104859885\n",
            "  (4, 6455)\t0.05225137154528662\n",
            "  (4, 8470)\t0.035185666907838635\n",
            "  (4, 4139)\t0.10827384607825465\n",
            "  (4, 2057)\t0.0472917739544725\n",
            "  (4, 7885)\t0.08453198487611004\n",
            "  (4, 865)\t0.13841669541879806\n",
            "  (4, 7469)\t0.06920834770939903\n",
            "  (4, 2317)\t0.14664806655654455\n",
            "  (4, 2310)\t0.0850557810046562\n",
            "  (4, 8546)\t0.1332658744251761\n",
            "  (4, 1367)\t0.14433528942653898\n",
            "  (4, 8911)\t0.05225137154528662\n",
            "  (4, 5676)\t0.029423118987273057\n",
            "  (4, 2477)\t0.0322203492842008\n",
            "  (4, 12381)\t0.047398925974778135\n",
            "  (4, 10797)\t0.03108520541708113\n",
            "  (4, 9384)\t0.02523044262001337\n",
            "  (4, 5369)\t0.04407939908186661\n",
            "  (4, 8275)\t0.04591595757849515\n",
            "  (4, 11625)\t0.07957238728529592\n",
            "  (4, 7880)\t0.05124067222673899\n",
            "  (4, 808)\t0.19859882577306529\n",
            "  (4, 4437)\t0.0540726147297103\n"
          ],
          "name": "stdout"
        }
      ]
    },
    {
      "cell_type": "code",
      "metadata": {
        "colab": {
          "base_uri": "https://localhost:8080/"
        },
        "id": "5VvdwJjXDnoD",
        "outputId": "f7d81e64-2acd-4043-d2e8-916cf326e9b4"
      },
      "source": [
        "scores = cross_val_score(LogisticRegression(max_iter=1000),word_vec,y,cv=5)\n",
        "print(\"크로스 밸리데이션 평균 점수 : {: .4f}\".format(np.mean(scores)))"
      ],
      "execution_count": 46,
      "outputs": [
        {
          "output_type": "stream",
          "text": [
            "크로스 밸리데이션 평균 점수 :  0.9484\n"
          ],
          "name": "stdout"
        }
      ]
    },
    {
      "cell_type": "code",
      "metadata": {
        "colab": {
          "base_uri": "https://localhost:8080/"
        },
        "id": "ErwlpcQULHZq",
        "outputId": "601726e8-ec16-4780-c9d1-ef5de0360199"
      },
      "source": [
        "onehot = []\n",
        "for i in range(len(y)):\n",
        "  arr = [0 for i in range(5)]\n",
        "  arr[y[i]] += 1\n",
        "  onehot.append(arr)\n",
        "\n",
        "y = onehot\n",
        "print(y[:10])"
      ],
      "execution_count": 55,
      "outputs": [
        {
          "output_type": "stream",
          "text": [
            "[[0, 1, 0, 0, 0], [0, 1, 0, 0, 0], [1, 0, 0, 0, 0], [1, 0, 0, 0, 0], [0, 0, 0, 1, 0], [0, 0, 1, 0, 0], [0, 0, 0, 0, 1], [0, 0, 0, 0, 1], [0, 0, 1, 0, 0], [1, 0, 0, 0, 0]]\n"
          ],
          "name": "stdout"
        }
      ]
    },
    {
      "cell_type": "code",
      "metadata": {
        "id": "WvFXWV6kHErT"
      },
      "source": [
        "xtrain, xtest, ytrain, ytest = train_test_split(X, y, \n",
        "                                                  stratify=y, \n",
        "                                                  random_state=42, \n",
        "                                                  test_size=0.1, shuffle=True)"
      ],
      "execution_count": 56,
      "outputs": []
    },
    {
      "cell_type": "code",
      "metadata": {
        "id": "kEhWC0TuHP0k"
      },
      "source": [
        "# word_vec은 train과 test를 이미 모두 합쳐 벡터화 시킴"
      ],
      "execution_count": null,
      "outputs": []
    },
    {
      "cell_type": "code",
      "metadata": {
        "colab": {
          "base_uri": "https://localhost:8080/",
          "height": 315
        },
        "id": "D68nv0RFMy04",
        "outputId": "52675b01-db32-4b77-ca7e-01b52887f4bb"
      },
      "source": [
        "import matplotlib.pyplot as plt\n",
        "\n",
        "print(\"문자의 최대 길이 :\" , max(len(l) for l in xtrain))\n",
        "print(\"문자의 평균 길이 : \", sum(map(len, xtrain))/ len(xtrain))\n",
        "plt.hist([len(s) for s in xtrain], bins=50)\n",
        "plt.xlabel('length of Data')\n",
        "plt.ylabel('number of Data')\n",
        "plt.show()"
      ],
      "execution_count": 58,
      "outputs": [
        {
          "output_type": "stream",
          "text": [
            "문자의 최대 길이 : 9475\n",
            "문자의 평균 길이 :  1942.7058823529412\n"
          ],
          "name": "stdout"
        },
        {
          "output_type": "display_data",
          "data": {
            "image/png": "[encoded data removed]",
            "text/plain": [
              "<Figure size 432x288 with 1 Axes>"
            ]
          },
          "metadata": {
            "tags": [],
            "needs_background": "light"
          }
        }
      ]
    },
    {
      "cell_type": "code",
      "metadata": {
        "colab": {
          "base_uri": "https://localhost:8080/",
          "height": 315
        },
        "id": "NLm0-L2VMsDr",
        "outputId": "bf500fda-368a-4072-b334-9a573300c314"
      },
      "source": [
        "import matplotlib.pyplot as plt\n",
        "\n",
        "print(\"문자의 최대 길이 :\" , max(len(l) for l in xtest))\n",
        "print(\"문자의 평균 길이 : \", sum(map(len, xtest))/ len(xtest))\n",
        "plt.hist([len(s) for s in xtest], bins=50)\n",
        "plt.xlabel('length of Data')\n",
        "plt.ylabel('number of Data')\n",
        "plt.show()"
      ],
      "execution_count": 57,
      "outputs": [
        {
          "output_type": "stream",
          "text": [
            "문자의 최대 길이 : 9440\n",
            "문자의 평균 길이 :  2070.4324324324325\n"
          ],
          "name": "stdout"
        },
        {
          "output_type": "display_data",
          "data": {
            "image/png": "[encoded data removed]",
            "text/plain": [
              "<Figure size 432x288 with 1 Axes>"
            ]
          },
          "metadata": {
            "tags": [],
            "needs_background": "light"
          }
        }
      ]
    },
    {
      "cell_type": "code",
      "metadata": {
        "id": "LxA45HAvNHag"
      },
      "source": [
        ""
      ],
      "execution_count": null,
      "outputs": []
    }
  ]
}