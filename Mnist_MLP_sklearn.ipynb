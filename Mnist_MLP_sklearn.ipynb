{
  "nbformat": 4,
  "nbformat_minor": 0,
  "metadata": {
    "colab": {
      "name": "Mnist_MLP_sklearn.ipynb",
      "provenance": [],
      "collapsed_sections": [],
      "mount_file_id": "1qoBrggWqaZd1yjxKLwzkmiKE2Y1AGzCs",
      "authorship_tag": "ABX9TyNVBDrN2JtAG5CH1cWaL9cS",
      "include_colab_link": true
    },
    "kernelspec": {
      "name": "python3",
      "display_name": "Python 3"
    }
  },
  "cells": [
    {
      "cell_type": "markdown",
      "metadata": {
        "id": "view-in-github",
        "colab_type": "text"
      },
      "source": [
        "<a href=\"https://colab.research.google.com/github/Limm-jk/2020_Fall_MachineLearning/blob/master/Mnist_MLP_sklearn.ipynb\" target=\"_parent\"><img src=\"https://colab.research.google.com/assets/colab-badge.svg\" alt=\"Open In Colab\"/></a>"
      ]
    },
    {
      "cell_type": "code",
      "metadata": {
        "id": "T4V9U4pn59dx",
        "outputId": "88cced2c-346c-4dc6-9a17-58bf54ea9b6a",
        "colab": {
          "base_uri": "https://localhost:8080/"
        }
      },
      "source": [
        "import numpy as np\n",
        "from mlxtend.data import loadlocal_mnist\n",
        "from sklearn.neural_network import MLPClassifier\n",
        "\n",
        "X, y = loadlocal_mnist(images_path='/content/drive/My Drive/Colab Notebooks/train-images.idx3-ubyte', labels_path='/content/drive/My Drive/Colab Notebooks/train-labels.idx1-ubyte')\n",
        "y.reshape(60000,1)\n",
        "print(X.shape)\n",
        "print(y.shape)"
      ],
      "execution_count": 5,
      "outputs": [
        {
          "output_type": "stream",
          "text": [
            "(60000, 784)\n",
            "(60000,)\n"
          ],
          "name": "stdout"
        }
      ]
    },
    {
      "cell_type": "code",
      "metadata": {
        "id": "17oFPdtlFCm8",
        "outputId": "f9a8864f-a091-48b4-89f1-23d41213b599",
        "colab": {
          "base_uri": "https://localhost:8080/"
        }
      },
      "source": [
        "from sklearn.model_selection import train_test_split\n",
        "X_train, X_test, Y_train, Y_test = train_test_split(X,y,test_size=0.4)\n",
        "print(X_train.shape)\n",
        "print(X_test.shape)\n",
        "print(Y_train.shape)\n",
        "print(Y_test)\n",
        "print(Y_test[1].dtype)"
      ],
      "execution_count": 17,
      "outputs": [
        {
          "output_type": "stream",
          "text": [
            "(36000, 784)\n",
            "(24000, 784)\n",
            "(36000,)\n",
            "[8 2 8 ... 1 5 1]\n",
            "uint8\n"
          ],
          "name": "stdout"
        }
      ]
    },
    {
      "cell_type": "code",
      "metadata": {
        "id": "Cji7hYp9Fagb",
        "outputId": "c1700140-d48f-4396-e5d1-d6a7ec67559d",
        "colab": {
          "base_uri": "https://localhost:8080/"
        }
      },
      "source": [
        "mlp_100 = MLPClassifier(solver='lbfgs', random_state = 0, hidden_layer_sizes=[100])\n",
        "mlp_100.fit(X_train,Y_train)"
      ],
      "execution_count": 54,
      "outputs": [
        {
          "output_type": "execute_result",
          "data": {
            "text/plain": [
              "MLPClassifier(activation='relu', alpha=0.0001, batch_size='auto', beta_1=0.9,\n",
              "              beta_2=0.999, early_stopping=False, epsilon=1e-08,\n",
              "              hidden_layer_sizes=(100,), learning_rate='constant',\n",
              "              learning_rate_init=0.001, max_fun=15000, max_iter=200,\n",
              "              momentum=0.9, n_iter_no_change=10, nesterovs_momentum=True,\n",
              "              power_t=0.5, random_state=None, shuffle=True, solver='adam',\n",
              "              tol=0.0001, validation_fraction=0.1, verbose=False,\n",
              "              warm_start=False)"
            ]
          },
          "metadata": {
            "tags": []
          },
          "execution_count": 54
        }
      ]
    },
    {
      "cell_type": "code",
      "metadata": {
        "id": "drTbNUvcG3dK",
        "outputId": "4af13759-7f7f-4325-9653-2298e629f52b",
        "colab": {
          "base_uri": "https://localhost:8080/"
        }
      },
      "source": [
        "print('테스트 셋 정확도 : {: .3f}'.format(mlp_100.score(X_test, Y_test)))\n",
        "print('트레이닝 셋 정확도 : {: .3f}'.format(mlp_100.score(X_train, Y_train)))"
      ],
      "execution_count": 50,
      "outputs": [
        {
          "output_type": "stream",
          "text": [
            "테스트 셋 정확도 :  0.123\n",
            "트레이닝 셋 정확도 :  0.117\n"
          ],
          "name": "stdout"
        }
      ]
    },
    {
      "cell_type": "code",
      "metadata": {
        "id": "NuxRtvDqIbI5"
      },
      "source": [
        "mlp_1010 = MLPClassifier(solver='lbfgs', random_state = 0, hidden_layer_sizes=[10,10])\n",
        "mlp_1010.fit(X_train,Y_train)"
      ],
      "execution_count": null,
      "outputs": []
    },
    {
      "cell_type": "code",
      "metadata": {
        "id": "tLH99XcuIeRt",
        "outputId": "32e6724a-c714-483f-f50b-355e1cd4c1ce",
        "colab": {
          "base_uri": "https://localhost:8080/"
        }
      },
      "source": [
        "print('테스트 셋 정확도 : {: .3f}'.format(mlp_1010.score(X_test, Y_test)))\n",
        "print('트레이닝 셋 정확도 : {: .3f}'.format(mlp_1010.score(X_train, Y_train)))"
      ],
      "execution_count": 20,
      "outputs": [
        {
          "output_type": "stream",
          "text": [
            "테스트 셋 정확도 :  0.360\n",
            "트레이닝 셋 정확도 :  0.367\n"
          ],
          "name": "stdout"
        }
      ]
    },
    {
      "cell_type": "code",
      "metadata": {
        "id": "ykF6sAPTJH5Z",
        "outputId": "6a749d5d-055c-4a2e-d1de-05f801645888",
        "colab": {
          "base_uri": "https://localhost:8080/"
        }
      },
      "source": [
        "mlp_303030 = MLPClassifier(solver='lbfgs', random_state = 0, hidden_layer_sizes=[30,30,30])\n",
        "mlp_303030.fit(X_train,Y_train)"
      ],
      "execution_count": 21,
      "outputs": [
        {
          "output_type": "stream",
          "text": [
            "/usr/local/lib/python3.6/dist-packages/sklearn/neural_network/_multilayer_perceptron.py:470: ConvergenceWarning: lbfgs failed to converge (status=1):\n",
            "STOP: TOTAL NO. of ITERATIONS REACHED LIMIT.\n",
            "\n",
            "Increase the number of iterations (max_iter) or scale the data as shown in:\n",
            "    https://scikit-learn.org/stable/modules/preprocessing.html\n",
            "  self.n_iter_ = _check_optimize_result(\"lbfgs\", opt_res, self.max_iter)\n"
          ],
          "name": "stderr"
        },
        {
          "output_type": "execute_result",
          "data": {
            "text/plain": [
              "MLPClassifier(activation='relu', alpha=0.0001, batch_size='auto', beta_1=0.9,\n",
              "              beta_2=0.999, early_stopping=False, epsilon=1e-08,\n",
              "              hidden_layer_sizes=[30, 30, 30], learning_rate='constant',\n",
              "              learning_rate_init=0.001, max_fun=15000, max_iter=200,\n",
              "              momentum=0.9, n_iter_no_change=10, nesterovs_momentum=True,\n",
              "              power_t=0.5, random_state=0, shuffle=True, solver='lbfgs',\n",
              "              tol=0.0001, validation_fraction=0.1, verbose=False,\n",
              "              warm_start=False)"
            ]
          },
          "metadata": {
            "tags": []
          },
          "execution_count": 21
        }
      ]
    },
    {
      "cell_type": "code",
      "metadata": {
        "id": "9ydCXQvIJHv6",
        "outputId": "10a2439f-f61a-496b-ced6-4f5950acacc4",
        "colab": {
          "base_uri": "https://localhost:8080/"
        }
      },
      "source": [
        "print('테스트 셋 정확도 : {: .3f}'.format(mlp_303030.score(X_test, Y_test)))\n",
        "print('트레이닝 셋 정확도 : {: .3f}'.format(mlp_303030.score(X_train, Y_train)))"
      ],
      "execution_count": 22,
      "outputs": [
        {
          "output_type": "stream",
          "text": [
            "테스트 셋 정확도 :  0.754\n",
            "트레이닝 셋 정확도 :  0.755\n"
          ],
          "name": "stdout"
        }
      ]
    },
    {
      "cell_type": "code",
      "metadata": {
        "id": "JQDUSkVbKKf9",
        "outputId": "5679ee56-a8ca-425e-b5ab-768609d8ce89",
        "colab": {
          "base_uri": "https://localhost:8080/"
        }
      },
      "source": [
        "mean_train = X_train.mean(axis=0)\n",
        "std_train = X_train.std(axis=0)\n",
        "X_train_s = (X_train-mean_train)/std_train\n",
        "X_train_s = np.nan_to_num(X_train_s)\n",
        "X_test_s = (X_test-mean_train)/std_train\n",
        "X_test_s = np.nan_to_num(X_test_s)"
      ],
      "execution_count": 30,
      "outputs": [
        {
          "output_type": "stream",
          "text": [
            "/usr/local/lib/python3.6/dist-packages/ipykernel_launcher.py:3: RuntimeWarning: invalid value encountered in true_divide\n",
            "  This is separate from the ipykernel package so we can avoid doing imports until\n",
            "/usr/local/lib/python3.6/dist-packages/ipykernel_launcher.py:5: RuntimeWarning: divide by zero encountered in true_divide\n",
            "  \"\"\"\n",
            "/usr/local/lib/python3.6/dist-packages/ipykernel_launcher.py:5: RuntimeWarning: invalid value encountered in true_divide\n",
            "  \"\"\"\n"
          ],
          "name": "stderr"
        }
      ]
    },
    {
      "cell_type": "code",
      "metadata": {
        "id": "hBTAJ_mRJ_PU",
        "outputId": "07cf9ce8-be45-4bf2-a480-836cbb0f5f4b",
        "colab": {
          "base_uri": "https://localhost:8080/"
        }
      },
      "source": [
        "mlp_100.fit(X_train_s,Y_train)\n",
        "mlp_1010.fit(X_train_s,Y_train)\n",
        "mlp_303030.fit(X_train_s,Y_train)"
      ],
      "execution_count": 45,
      "outputs": [
        {
          "output_type": "stream",
          "text": [
            "/usr/local/lib/python3.6/dist-packages/sklearn/neural_network/_multilayer_perceptron.py:470: ConvergenceWarning: lbfgs failed to converge (status=1):\n",
            "STOP: TOTAL NO. of ITERATIONS REACHED LIMIT.\n",
            "\n",
            "Increase the number of iterations (max_iter) or scale the data as shown in:\n",
            "    https://scikit-learn.org/stable/modules/preprocessing.html\n",
            "  self.n_iter_ = _check_optimize_result(\"lbfgs\", opt_res, self.max_iter)\n"
          ],
          "name": "stderr"
        },
        {
          "output_type": "execute_result",
          "data": {
            "text/plain": [
              "MLPClassifier(activation='relu', alpha=0.0001, batch_size='auto', beta_1=0.9,\n",
              "              beta_2=0.999, early_stopping=False, epsilon=1e-08,\n",
              "              hidden_layer_sizes=[30, 30, 30], learning_rate='constant',\n",
              "              learning_rate_init=0.001, max_fun=15000, max_iter=200,\n",
              "              momentum=0.9, n_iter_no_change=10, nesterovs_momentum=True,\n",
              "              power_t=0.5, random_state=0, shuffle=True, solver='lbfgs',\n",
              "              tol=0.0001, validation_fraction=0.1, verbose=False,\n",
              "              warm_start=False)"
            ]
          },
          "metadata": {
            "tags": []
          },
          "execution_count": 45
        }
      ]
    },
    {
      "cell_type": "code",
      "metadata": {
        "id": "1hT9eFYDNVa9",
        "outputId": "bfd19ba9-d8eb-46ca-ee02-63dc1d7781c2",
        "colab": {
          "base_uri": "https://localhost:8080/"
        }
      },
      "source": [
        "print('[100]테스트 셋 정확도 : {: .3f}'.format(mlp_100.score(X_test_s, Y_test)))\n",
        "print('[100]트레이닝 셋 정확도 : {: .3f}'.format(mlp_100.score(X_train_s, Y_train)))\n",
        "print('[10 10]테스트 셋 정확도 : {: .3f}'.format(mlp_1010.score(X_test_s, Y_test)))\n",
        "print('[10 10]트레이닝 셋 정확도 : {: .3f}'.format(mlp_1010.score(X_train_s, Y_train)))\n",
        "print('[30 30 30]테스트 셋 정확도 : {: .3f}'.format(mlp_303030.score(X_test_s, Y_test)))\n",
        "print('[30 30 30]트레이닝 셋 정확도 : {: .3f}'.format(mlp_303030.score(X_train_s, Y_train)))"
      ],
      "execution_count": 46,
      "outputs": [
        {
          "output_type": "stream",
          "text": [
            "/usr/local/lib/python3.6/dist-packages/numpy/core/fromnumeric.py:90: RuntimeWarning: overflow encountered in reduce\n",
            "  return ufunc.reduce(obj, axis, dtype, out, **passkwargs)\n"
          ],
          "name": "stderr"
        },
        {
          "output_type": "stream",
          "text": [
            "[100]테스트 셋 정확도 :  0.964\n",
            "[100]트레이닝 셋 정확도 :  1.000\n",
            "[10 10]테스트 셋 정확도 :  0.915\n"
          ],
          "name": "stdout"
        },
        {
          "output_type": "stream",
          "text": [
            "/usr/local/lib/python3.6/dist-packages/numpy/core/fromnumeric.py:90: RuntimeWarning: overflow encountered in reduce\n",
            "  return ufunc.reduce(obj, axis, dtype, out, **passkwargs)\n"
          ],
          "name": "stderr"
        },
        {
          "output_type": "stream",
          "text": [
            "[10 10]트레이닝 셋 정확도 :  0.975\n",
            "[30 30 30]테스트 셋 정확도 :  0.953\n"
          ],
          "name": "stdout"
        },
        {
          "output_type": "stream",
          "text": [
            "/usr/local/lib/python3.6/dist-packages/numpy/core/fromnumeric.py:90: RuntimeWarning: overflow encountered in reduce\n",
            "  return ufunc.reduce(obj, axis, dtype, out, **passkwargs)\n",
            "/usr/local/lib/python3.6/dist-packages/sklearn/neural_network/_base.py:92: RuntimeWarning: overflow encountered in subtract\n",
            "  tmp = X - X.max(axis=1)[:, np.newaxis]\n"
          ],
          "name": "stderr"
        },
        {
          "output_type": "stream",
          "text": [
            "[30 30 30]트레이닝 셋 정확도 :  1.000\n"
          ],
          "name": "stdout"
        }
      ]
    },
    {
      "cell_type": "code",
      "metadata": {
        "id": "jdaBob0iOBqe"
      },
      "source": [
        "mlp_100_it = MLPClassifier(solver='lbfgs', max_iter=1000,random_state = 0, hidden_layer_sizes=[100])\n",
        "mlp_1010_it = MLPClassifier(solver='lbfgs',max_iter=1000, random_state = 0, hidden_layer_sizes=[10,10])\n",
        "mlp_303030_it = MLPClassifier(solver='lbfgs',max_iter=1000, random_state = 0, hidden_layer_sizes=[30,30,30])"
      ],
      "execution_count": 51,
      "outputs": []
    },
    {
      "cell_type": "code",
      "metadata": {
        "id": "J9wM4nLQRC-Q"
      },
      "source": [
        "mlp_100 = MLPClassifier(solver='lbfgs',random_state = 0, hidden_layer_sizes=[100])\n",
        "mlp_1010 = MLPClassifier(solver='lbfgs', random_state = 0, hidden_layer_sizes=[10,10])\n",
        "mlp_303030 = MLPClassifier(solver='lbfgs', random_state = 0, hidden_layer_sizes=[30,30,30])"
      ],
      "execution_count": 47,
      "outputs": []
    },
    {
      "cell_type": "code",
      "metadata": {
        "id": "i3-qbMtOOUEI",
        "outputId": "1bbc481a-22bf-4d11-9cfb-da5847d01035",
        "colab": {
          "base_uri": "https://localhost:8080/"
        }
      },
      "source": [
        "mlp_100_it.fit(X_train,Y_train)\n",
        "mlp_1010_it.fit(X_train,Y_train)\n",
        "mlp_303030_it.fit(X_train,Y_train)"
      ],
      "execution_count": 42,
      "outputs": [
        {
          "output_type": "stream",
          "text": [
            "/usr/local/lib/python3.6/dist-packages/sklearn/neural_network/_multilayer_perceptron.py:470: ConvergenceWarning: lbfgs failed to converge (status=1):\n",
            "STOP: TOTAL NO. of ITERATIONS REACHED LIMIT.\n",
            "\n",
            "Increase the number of iterations (max_iter) or scale the data as shown in:\n",
            "    https://scikit-learn.org/stable/modules/preprocessing.html\n",
            "  self.n_iter_ = _check_optimize_result(\"lbfgs\", opt_res, self.max_iter)\n",
            "/usr/local/lib/python3.6/dist-packages/sklearn/neural_network/_multilayer_perceptron.py:470: ConvergenceWarning: lbfgs failed to converge (status=1):\n",
            "STOP: TOTAL NO. of ITERATIONS REACHED LIMIT.\n",
            "\n",
            "Increase the number of iterations (max_iter) or scale the data as shown in:\n",
            "    https://scikit-learn.org/stable/modules/preprocessing.html\n",
            "  self.n_iter_ = _check_optimize_result(\"lbfgs\", opt_res, self.max_iter)\n"
          ],
          "name": "stderr"
        },
        {
          "output_type": "execute_result",
          "data": {
            "text/plain": [
              "MLPClassifier(activation='relu', alpha=0.0001, batch_size='auto', beta_1=0.9,\n",
              "              beta_2=0.999, early_stopping=False, epsilon=1e-08,\n",
              "              hidden_layer_sizes=[30, 30, 30], learning_rate='constant',\n",
              "              learning_rate_init=0.001, max_fun=15000, max_iter=1000,\n",
              "              momentum=0.9, n_iter_no_change=10, nesterovs_momentum=True,\n",
              "              power_t=0.5, random_state=0, shuffle=True, solver='lbfgs',\n",
              "              tol=0.0001, validation_fraction=0.1, verbose=False,\n",
              "              warm_start=False)"
            ]
          },
          "metadata": {
            "tags": []
          },
          "execution_count": 42
        }
      ]
    },
    {
      "cell_type": "code",
      "metadata": {
        "id": "Jok46xwiOZeT",
        "outputId": "7ac8ab61-ad6d-4d08-986e-7dc86275e2c8",
        "colab": {
          "base_uri": "https://localhost:8080/"
        }
      },
      "source": [
        "print('[100]테스트 셋 정확도 : {: .3f}'.format(mlp_100_it.score(X_test, Y_test)))\n",
        "print('[100]트레이닝 셋 정확도 : {: .3f}'.format(mlp_100_it.score(X_train, Y_train)))\n",
        "print('[10 10]테스트 셋 정확도 : {: .3f}'.format(mlp_1010_it.score(X_test, Y_test)))\n",
        "print('[10 10]트레이닝 셋 정확도 : {: .3f}'.format(mlp_1010_it.score(X_train, Y_train)))\n",
        "print('[30 30 30]테스트 셋 정확도 : {: .3f}'.format(mlp_303030_it.score(X_test, Y_test)))\n",
        "print('[30 30 30]트레이닝 셋 정확도 : {: .3f}'.format(mlp_303030_it.score(X_train, Y_train)))"
      ],
      "execution_count": 43,
      "outputs": [
        {
          "output_type": "stream",
          "text": [
            "[100]테스트 셋 정확도 :  0.123\n",
            "[100]트레이닝 셋 정확도 :  0.117\n",
            "[10 10]테스트 셋 정확도 :  0.425\n",
            "[10 10]트레이닝 셋 정확도 :  0.423\n",
            "[30 30 30]테스트 셋 정확도 :  0.907\n",
            "[30 30 30]트레이닝 셋 정확도 :  0.933\n"
          ],
          "name": "stdout"
        }
      ]
    },
    {
      "cell_type": "code",
      "metadata": {
        "id": "yM1dvF8LTd9Z",
        "outputId": "58c9a775-a795-4eff-84e8-e6f8a8f048d3",
        "colab": {
          "base_uri": "https://localhost:8080/"
        }
      },
      "source": [
        "mlp_100_it.fit(X_train_s,Y_train)\n",
        "mlp_1010_it.fit(X_train_s,Y_train)\n",
        "mlp_303030_it.fit(X_train_s,Y_train)"
      ],
      "execution_count": 52,
      "outputs": [
        {
          "output_type": "stream",
          "text": [
            "/usr/local/lib/python3.6/dist-packages/sklearn/neural_network/_multilayer_perceptron.py:470: ConvergenceWarning: lbfgs failed to converge (status=1):\n",
            "STOP: TOTAL NO. of ITERATIONS REACHED LIMIT.\n",
            "\n",
            "Increase the number of iterations (max_iter) or scale the data as shown in:\n",
            "    https://scikit-learn.org/stable/modules/preprocessing.html\n",
            "  self.n_iter_ = _check_optimize_result(\"lbfgs\", opt_res, self.max_iter)\n"
          ],
          "name": "stderr"
        },
        {
          "output_type": "execute_result",
          "data": {
            "text/plain": [
              "MLPClassifier(activation='relu', alpha=0.0001, batch_size='auto', beta_1=0.9,\n",
              "              beta_2=0.999, early_stopping=False, epsilon=1e-08,\n",
              "              hidden_layer_sizes=[30, 30, 30], learning_rate='constant',\n",
              "              learning_rate_init=0.001, max_fun=15000, max_iter=1000,\n",
              "              momentum=0.9, n_iter_no_change=10, nesterovs_momentum=True,\n",
              "              power_t=0.5, random_state=0, shuffle=True, solver='lbfgs',\n",
              "              tol=0.0001, validation_fraction=0.1, verbose=False,\n",
              "              warm_start=False)"
            ]
          },
          "metadata": {
            "tags": []
          },
          "execution_count": 52
        }
      ]
    },
    {
      "cell_type": "code",
      "metadata": {
        "id": "O-DTLz_AUQzN",
        "outputId": "7b1ebb2b-bc78-4886-9e6b-00623a094f43",
        "colab": {
          "base_uri": "https://localhost:8080/"
        }
      },
      "source": [
        "print('[100]테스트 셋 정확도 : {: .3f}'.format(mlp_100_it.score(X_test_s, Y_test)))\n",
        "print('[100]트레이닝 셋 정확도 : {: .3f}'.format(mlp_100_it.score(X_train_s, Y_train)))\n",
        "print('[10 10]테스트 셋 정확도 : {: .3f}'.format(mlp_1010_it.score(X_test_s, Y_test)))\n",
        "print('[10 10]트레이닝 셋 정확도 : {: .3f}'.format(mlp_1010_it.score(X_train_s, Y_train)))\n",
        "print('[30 30 30]테스트 셋 정확도 : {: .3f}'.format(mlp_303030_it.score(X_test_s, Y_test)))\n",
        "print('[30 30 30]트레이닝 셋 정확도 : {: .3f}'.format(mlp_303030_it.score(X_train_s, Y_train)))"
      ],
      "execution_count": 53,
      "outputs": [
        {
          "output_type": "stream",
          "text": [
            "/usr/local/lib/python3.6/dist-packages/numpy/core/fromnumeric.py:90: RuntimeWarning: overflow encountered in reduce\n",
            "  return ufunc.reduce(obj, axis, dtype, out, **passkwargs)\n"
          ],
          "name": "stderr"
        },
        {
          "output_type": "stream",
          "text": [
            "[100]테스트 셋 정확도 :  0.964\n",
            "[100]트레이닝 셋 정확도 :  1.000\n",
            "[10 10]테스트 셋 정확도 :  0.888\n"
          ],
          "name": "stdout"
        },
        {
          "output_type": "stream",
          "text": [
            "/usr/local/lib/python3.6/dist-packages/numpy/core/fromnumeric.py:90: RuntimeWarning: overflow encountered in reduce\n",
            "  return ufunc.reduce(obj, axis, dtype, out, **passkwargs)\n",
            "/usr/local/lib/python3.6/dist-packages/sklearn/utils/extmath.py:151: RuntimeWarning: overflow encountered in matmul\n",
            "  ret = a @ b\n",
            "/usr/local/lib/python3.6/dist-packages/sklearn/neural_network/_base.py:92: RuntimeWarning: overflow encountered in subtract\n",
            "  tmp = X - X.max(axis=1)[:, np.newaxis]\n",
            "/usr/local/lib/python3.6/dist-packages/sklearn/neural_network/_base.py:92: RuntimeWarning: invalid value encountered in subtract\n",
            "  tmp = X - X.max(axis=1)[:, np.newaxis]\n"
          ],
          "name": "stderr"
        },
        {
          "output_type": "stream",
          "text": [
            "[10 10]트레이닝 셋 정확도 :  0.999\n",
            "[30 30 30]테스트 셋 정확도 :  0.953\n"
          ],
          "name": "stdout"
        },
        {
          "output_type": "stream",
          "text": [
            "/usr/local/lib/python3.6/dist-packages/numpy/core/fromnumeric.py:90: RuntimeWarning: overflow encountered in reduce\n",
            "  return ufunc.reduce(obj, axis, dtype, out, **passkwargs)\n",
            "/usr/local/lib/python3.6/dist-packages/sklearn/neural_network/_base.py:92: RuntimeWarning: overflow encountered in subtract\n",
            "  tmp = X - X.max(axis=1)[:, np.newaxis]\n"
          ],
          "name": "stderr"
        },
        {
          "output_type": "stream",
          "text": [
            "[30 30 30]트레이닝 셋 정확도 :  1.000\n"
          ],
          "name": "stdout"
        }
      ]
    }
  ]
}