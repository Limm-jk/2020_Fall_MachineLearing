{
  "nbformat": 4,
  "nbformat_minor": 0,
  "metadata": {
    "colab": {
      "name": "iris_kNN.ipynb",
      "provenance": [],
      "authorship_tag": "ABX9TyNdKN4eQ53A5fa6MKd/XhiD",
      "include_colab_link": true
    },
    "kernelspec": {
      "name": "python3",
      "display_name": "Python 3"
    }
  },
  "cells": [
    {
      "cell_type": "markdown",
      "metadata": {
        "id": "view-in-github",
        "colab_type": "text"
      },
      "source": [
        "<a href=\"https://colab.research.google.com/github/Limm-jk/2020_Fall_MachineLearning/blob/master/iris_kNN.ipynb\" target=\"_parent\"><img src=\"https://colab.research.google.com/assets/colab-badge.svg\" alt=\"Open In Colab\"/></a>"
      ]
    },
    {
      "cell_type": "code",
      "metadata": {
        "id": "sd3vwRgOPDFH",
        "outputId": "82a8810a-5eeb-43e8-929e-a376cad19f2c",
        "colab": {
          "base_uri": "https://localhost:8080/",
          "height": 87
        }
      },
      "source": [
        "import numpy as np\n",
        "import math\n",
        "iris = np.loadtxt(\"./iris.csv\", delimiter=',', dtype = np.float32)\n",
        "\n",
        "print(iris[1:5])"
      ],
      "execution_count": 4,
      "outputs": [
        {
          "output_type": "stream",
          "text": [
            "[[4.9 3.  1.4 0.2 1. ]\n",
            " [4.7 3.2 1.3 0.2 1. ]\n",
            " [4.6 3.1 1.5 0.2 1. ]\n",
            " [5.  3.6 1.4 0.2 1. ]]\n"
          ],
          "name": "stdout"
        }
      ]
    },
    {
      "cell_type": "code",
      "metadata": {
        "id": "vnkDtybSQiJE",
        "outputId": "d8cc263f-2849-4e1f-953c-a84f099a0621",
        "colab": {
          "base_uri": "https://localhost:8080/",
          "height": 122
        }
      },
      "source": [
        "# 입력값과 각 벡터 사이 거리 구하기\n",
        "def dist(a, b):\n",
        "  # a와 b의 크기는 같다.\n",
        "  lenth = len(a)\n",
        "  sum = 0\n",
        "  for i in range(lenth):\n",
        "    sum += (a[i]-b[i])**2\n",
        "  return math.sqrt(sum)\n",
        "def avg(arr):\n",
        "  ans = sum(arr)\n",
        "  ans /= len(arr)\n",
        "  return ans\n",
        "\n",
        "# 테스트 셋 5개로 나누어서 만들기\n",
        "acc_arr = []\n",
        "\n",
        "for i in range(5):\n",
        "  test = [[4.9, 3, 1.4, 0.2, 1]]\n",
        "  train = [[4.9, 3, 1.4, 0.2, 1]]\n",
        "  for j in range(3):\n",
        "    test = np.concatenate([test, iris[50*j+10*i:50*j+10+10*i]])\n",
        "    train = np.concatenate([train, iris[50*j:50*j+10*i]])\n",
        "    train = np.concatenate([train, iris[50*j+10+10*i:50*(j+1)]])\n",
        "  test = np.delete(test, 0,0)\n",
        "  train = np.delete(train, 0,0)\n",
        "\n",
        "  match = 0 \n",
        "  for t in test:\n",
        "    min = 1000000\n",
        "    min_ans = 0\n",
        "    for tr in train:\n",
        "      dis = dist(t[:4],tr[:4])\n",
        "      \n",
        "      if dis < min:\n",
        "        min = dis\n",
        "        min_ans = tr[4]\n",
        "      \n",
        "    if t[4] == min_ans:\n",
        "      match += 1\n",
        "  ac = round((match/len(test))*100, 4)\n",
        "  acc_arr.append(ac)\n",
        "  acc = str(ac)\n",
        "  print(i+1,':',acc)\n",
        "\n",
        "print('평균 :',avg(acc_arr))\n"
      ],
      "execution_count": 53,
      "outputs": [
        {
          "output_type": "stream",
          "text": [
            "1 : 96.6667\n",
            "2 : 96.6667\n",
            "3 : 93.3333\n",
            "4 : 93.3333\n",
            "5 : 100.0\n",
            "평균 : 96.0\n"
          ],
          "name": "stdout"
        }
      ]
    }
  ]
}