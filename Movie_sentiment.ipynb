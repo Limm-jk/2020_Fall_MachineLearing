{
 "cells": [
  {
   "cell_type": "code",
   "execution_count": 1,
   "metadata": {},
   "outputs": [
    {
     "name": "stdout",
     "output_type": "stream",
     "text": [
      " C 드라이브의 볼륨에는 이름이 없습니다.\n",
      " 볼륨 일련 번호: 8EA6-FC73\n",
      "\n",
      " C:\\Users\\Free\\Desktop 디렉터리\n",
      "\n",
      "2020-11-24  오후 05:56    <DIR>          .\n",
      "2020-11-24  오후 05:56    <DIR>          ..\n",
      "2020-11-08  오후 12:32            33,706 (게시용)_2020학년도_2학기_학기제_백마인턴십_기업_명단('20.07.23.기준).xlsx\n",
      "2020-11-04  오후 08:19            43,776 (게시용)_2020학년도_동기_계절제_백마인턴십_기업_명단('20.11.04.18시_기준).xlsx\n",
      "2020-11-06  오후 03:40           273,920 (공고문)2019학년도_제2학기_SW중심대학사업_특별_장학생_선발계획(안)_컴공.hwp\n",
      "2020-11-11  오후 01:01            23,552 (공고문)NHN엔터테인먼트_인턴십_선발.hwp\n",
      "2020-11-10  오후 05:53            12,787 (컴공)SW중심대학사업_세부_활동_실적표_신청자명.xlsx\n",
      "2020-11-24  오후 05:56    <DIR>          .ipynb_checkpoints\n",
      "2020-11-12  오후 09:06           984,818 12.+Iterative+Methods.pdf\n",
      "2020-11-19  오후 03:40           410,561 13.+Eigenvalues.pdf\n",
      "2020-11-19  오후 03:40           834,822 14.+Linear+Regression.pdf\n",
      "2020-04-29  오전 01:58    <DIR>          2017 관현악단 정기연주회\n",
      "2019-10-31  오후 10:25    <DIR>          2019 관현악단 정기연주회\n",
      "2020-11-21  오전 01:53    <DIR>          2020Motion\n",
      "2020-10-22  오후 07:12    <DIR>          2020_Spring_DataCommunication-master1111\n",
      "2020-11-12  오후 11:40           191,894 2020_동아리성과_(제출서식)_동아리명.pdf\n",
      "2020-11-13  오후 05:00         2,394,158 2020_동아리성과_증빙자료(서식)_모션.pdf\n",
      "2020-11-23  오후 05:29    <DIR>          aclImdb_v1\n",
      "2020-11-23  오후 05:08        84,125,825 aclImdb_v1.tar.gz\n",
      "2020-10-22  오전 01:40    <DIR>          Algorithm\n",
      "2020-03-19  오후 03:16             1,181 Android Studio.lnk\n",
      "2020-10-08  오전 09:37    <DIR>          BC_Korea\n",
      "2020-10-09  오후 08:16           248,360 Bravocado.gif\n",
      "2020-10-20  오전 10:49    <DIR>          Compiler\n",
      "2020-09-17  오후 07:58             2,271 Discord.lnk\n",
      "2020-11-09  오후 05:46    <DIR>          Django\n",
      "2020-09-02  오후 01:44             2,140 Docker Desktop.lnk\n",
      "2020-10-31  오후 05:30            13,941 dog.jpg\n",
      "2020-11-13  오후 08:30    <DIR>          gh_streak_box\n",
      "2020-11-16  오후 05:50         1,474,048 Google_Workspace(구_G_Suite)_계정_신청_방법.hwp\n",
      "2020-11-24  오후 02:44           930,127 haarcascade_frontalface_default.xml\n",
      "2020-11-21  오후 04:42            36,162 Hacktoberfest.pptx\n",
      "2020-11-24  오후 04:33        14,024,016 iCertPrintClientSetup.exe\n",
      "2020-04-26  오후 04:18    <DIR>          insta_spring\n",
      "2020-11-22  오후 04:55        52,468,037 ITE.pptx\n",
      "2020-11-21  오후 03:41    <DIR>          ite2\n",
      "2020-11-10  오후 04:56           318,312 ITE2_week11.pdf\n",
      "2020-11-16  오후 10:25           420,538 ITE2_wk12_quiz.pdf\n",
      "2020-11-22  오후 04:55        51,306,233 ITE_201602057_JunkyuLim.mp4\n",
      "2020-05-23  오전 01:17    <DIR>          KAIST_Data&AI\n",
      "2020-11-13  오후 06:21           448,839 lab10.pdf\n",
      "2020-11-23  오후 04:34           338,428 lab11.pdf\n",
      "2020-11-24  오전 01:07            15,469 Learning both Weights and Connections for Efficient Neural Networks.docx\n",
      "2020-10-17  오후 03:44    <DIR>          Limm-jk\n",
      "2020-06-16  오후 05:16    <DIR>          Local_Repo\n",
      "2020-11-20  오후 08:15    <DIR>          matlab\n",
      "2020-10-27  오후 08:45            16,868 meow_party.gif\n",
      "2020-08-13  오전 04:36    <DIR>          mini-games-paradise\n",
      "2020-11-24  오후 05:55                72 Movie_sentiment.ipynb\n",
      "2020-03-18  오후 05:09             2,236 MySQL Workbench 8.0 CE.lnk\n",
      "2020-11-21  오전 01:53            21,614 nota_Paper1.docx\n",
      "2020-04-30  오후 08:29    <DIR>          old모션\n",
      "2020-11-22  오후 11:16    <DIR>          PitchStroopforPsychopy3\n",
      "2020-11-17  오후 05:33        22,413,908 PitchStroopforPsychopy3.zip\n",
      "2020-04-26  오후 02:24             2,211 Postman.lnk\n",
      "2020-11-09  오후 04:48    <DIR>          Review_Riew\n",
      "2020-11-09  오후 06:04    <DIR>          Review_Site\n",
      "2020-11-02  오후 10:27    <DIR>          sentiment-analysis\n",
      "2020-11-18  오후 01:00             2,243 Slack.lnk\n",
      "2019-10-15  오전 12:58             1,220 Snipping Tool.lnk\n",
      "2020-11-17  오후 05:36       416,596,384 StandalonePsychoPy3-2020.2.6-win64.exe\n",
      "2020-11-05  오후 05:30           782,217 The Introduction and Prospect of Genome-Wide Association Study.pdf\n",
      "2020-11-23  오후 09:07    <DIR>          TIL\n",
      "2020-11-18  오후 06:44    <DIR>          TIL_site\n",
      "2020-10-31  오후 05:13            54,464 tree.jpg\n",
      "2019-11-11  오후 09:55             1,415 Visual Studio Code.lnk\n",
      "2020-10-31  오후 04:39            34,816 [붙임]_2019년_하반기_글로벌_현장실습_추가_모집_안내.hwp\n",
      "2020-11-02  오후 10:45            74,240 ㅂㅜㅌㅇㅣㅁ2_2019ㄴㅕㄴ_ㅎㅏㄱㅖ_ㅇㅕㄴㄱㅜㅇㅕㄴㅅㅜㅅㅐㅇ_ㅁㅗㅈㅣㅂㅂㅜㄴㅇㅑ(ㄱㅗㅇㄱㅗㅇㅛㅇ).xls\n",
      "2020-11-12  오후 05:52            16,896 ★2020_동아리연합성과발표대회_안내_20201105.hwp\n",
      "2020-05-27  오전 03:13             1,034 강의 다 들었냐.lnk\n",
      "2020-11-24  오전 12:56            27,103 공룡스.png\n",
      "2020-10-16  오후 04:50           398,208 공소실저장소.docx\n",
      "2020-11-11  오전 12:44           184,524 교수님 그림.png\n",
      "2020-07-15  오후 03:30               854 구름다리.lnk\n",
      "2020-11-22  오전 01:50    <DIR>          그저 빛\n",
      "2020-11-22  오전 03:53            12,711 글또 피드백.docx\n",
      "2020-09-08  오후 05:48    <DIR>          글로벌인재\n",
      "2020-06-25  오후 12:14             8,311 글잉표.png\n",
      "2020-09-17  오후 01:31               193 급한강의.txt\n",
      "2020-11-17  오전 11:42    <DIR>          기계학습\n",
      "2020-11-22  오후 10:54        54,536,688 기계학습 - 복사본.pptx\n",
      "2020-11-24  오후 03:49         3,046,655 기계학습_201602057_임준규.pptx\n",
      "2020-10-20  오전 10:44    <DIR>          기타폴더\n",
      "2020-11-16  오후 11:52            12,641 대충기말괒[.docx\n",
      "2020-11-12  오후 08:51            48,475 머신러닝 야학 수료증.png\n",
      "2020-11-12  오후 09:11            45,813 머신러닝야학_20.08.pdf\n",
      "2020-09-02  오후 03:03    <DIR>          모각코\n",
      "2020-11-04  오후 02:27    <DIR>          문제로 풀어보는 알고리즘\n",
      "2020-11-21  오후 03:21           740,362 발표자료(동영상)+제작+매뉴얼.pdf\n",
      "2020-11-23  오후 06:34            95,663 붙임5_미국_단기_온라인현장실습_IT기업&IT직군_리스트_20200515.pdf\n",
      "2020-10-20  오전 10:46    <DIR>          블로그\n",
      "2020-11-22  오후 10:54        49,279,320 소.중.대_충남대학교_임준규.mp4\n",
      "2020-11-10  오후 10:30    <DIR>          소공\n",
      "2020-11-20  오후 08:17    <DIR>          수치해석\n",
      "2020-05-12  오후 06:54    <DIR>          스프링스터디\n",
      "2020-04-13  오후 10:23            12,987 아스키코드표.png\n",
      "2020-11-21  오후 07:34    <DIR>          여쌤\n",
      "2020-10-20  오전 10:42    <DIR>          영어\n",
      "2020-06-01  오후 02:22    <DIR>          오늘의 크롤링~\n",
      "2020-09-20  오후 03:08    <DIR>          웹프\n",
      "2020-11-21  오후 04:42            35,305 유튜브.pptx\n",
      "2020-04-14  오전 02:38               926 이누공.lnk\n",
      "2020-11-23  오후 04:22         6,152,335 인증.jpg\n",
      "2020-11-03  오후 03:40            72,999 임준규-코세라3주.png\n",
      "2020-11-11  오후 03:21            87,389 임준규-코세라4주.png\n",
      "2020-11-19  오전 12:16            87,735 임준규-코세라5주.png\n",
      "2020-06-19  오후 05:56    <DIR>          잘 안쓰는 개발툴\n",
      "2020-10-20  오전 10:48    <DIR>          재밌어보이는거\n",
      "2020-10-19  오후 07:50        24,197,858 족보모음.zip\n",
      "2020-06-15  오후 04:17    <DIR>          중요한 공지\n",
      "2020-11-24  오후 03:49    <DIR>          지원\n",
      "2020-11-17  오전 12:06            36,864 지원서_2020 Dream Academy.docx.doc\n",
      "2020-07-24  오후 10:41    <DIR>          챗봇경진대회\n",
      "2020-10-22  오후 06:55    <DIR>          컴네팀플\n",
      "2020-10-04  오후 07:12    <DIR>          컴파일러 개론\n",
      "2020-11-10  오후 10:30    <DIR>          컴퓨터네트워크\n",
      "2020-11-11  오후 03:46    <DIR>          코세라 환급\n",
      "2020-11-13  오전 12:57            78,065 투표독려.png\n",
      "2020-05-08  오전 01:04    <DIR>          활동 사진\n",
      "              68개 파일         790,599,743 바이트\n",
      "              51개 디렉터리  25,238,425,600 바이트 남음\n"
     ]
    }
   ],
   "source": [
    "!dir"
   ]
  },
  {
   "cell_type": "code",
   "execution_count": 10,
   "metadata": {},
   "outputs": [
    {
     "name": "stdout",
     "output_type": "stream",
     "text": [
      " C 드라이브의 볼륨에는 이름이 없습니다.\n",
      " 볼륨 일련 번호: 8EA6-FC73\n",
      "\n",
      " C:\\Users\\Free\\Desktop\\aclImdb_v1\\aclImdb 디렉터리\n",
      "\n",
      "2020-11-23  오후 05:29    <DIR>          .\n",
      "2020-11-23  오후 05:29    <DIR>          ..\n",
      "2011-04-13  오전 02:14           845,980 imdb.vocab\n",
      "2011-06-12  오전 07:54           903,029 imdbEr.txt\n",
      "2011-06-26  오전 09:18             4,037 README\n",
      "2020-11-23  오후 05:29    <DIR>          test\n",
      "2020-11-23  오후 06:13    <DIR>          train\n",
      "               3개 파일           1,753,046 바이트\n",
      "               4개 디렉터리  25,243,295,744 바이트 남음\n"
     ]
    }
   ],
   "source": [
    "!dir aclImdb_v1\\aclImdb\n",
    "import numpy as np"
   ]
  },
  {
   "cell_type": "code",
   "execution_count": 5,
   "metadata": {},
   "outputs": [],
   "source": [
    "from sklearn.datasets import load_files\n",
    "review_train = load_files('./aclImdb_v1/aclImdb/train/')"
   ]
  },
  {
   "cell_type": "code",
   "execution_count": 7,
   "metadata": {},
   "outputs": [
    {
     "name": "stdout",
     "output_type": "stream",
     "text": [
      "25000\n",
      "1\n"
     ]
    }
   ],
   "source": [
    "text_train, y_train = review_train.data, review_train.target\n",
    "print(len(text_train))\n",
    "print(y_train[6])"
   ]
  },
  {
   "cell_type": "code",
   "execution_count": 8,
   "metadata": {},
   "outputs": [],
   "source": [
    "text_train = [doc.replace(b\"<br />\", b\" \") for doc in text_train]"
   ]
  },
  {
   "cell_type": "code",
   "execution_count": 11,
   "metadata": {},
   "outputs": [
    {
     "name": "stdout",
     "output_type": "stream",
     "text": [
      "[12500 12500]\n"
     ]
    }
   ],
   "source": [
    "print(np.bincount(y_train))"
   ]
  },
  {
   "cell_type": "code",
   "execution_count": 12,
   "metadata": {},
   "outputs": [
    {
     "name": "stdout",
     "output_type": "stream",
     "text": [
      "b\"I think this is one hell of a movie...........We can see Steven fighting around with his martial art stuff again and like in all Segal movies there's a message in it, without the message it would be one of many action/fighting movies but the message is what makes segal movies great and special.\"\n"
     ]
    }
   ],
   "source": [
    "review_test = load_files(\"./aclImdb_v1/aclImdb/test/\")\n",
    "text_test, y_test = review_test.data, review_test.target\n",
    "text_test = [doc.replace(b\"<br />\", b\" \") for doc in text_test]\n",
    "print(text_test[6])"
   ]
  },
  {
   "cell_type": "code",
   "execution_count": 13,
   "metadata": {},
   "outputs": [],
   "source": [
    "from sklearn.feature_extraction.text import CountVectorizer\n",
    "vect = CountVectorizer().fit(text_train,text_test)"
   ]
  },
  {
   "cell_type": "code",
   "execution_count": 15,
   "metadata": {},
   "outputs": [
    {
     "name": "stdout",
     "output_type": "stream",
     "text": [
      "<25000x74849 sparse matrix of type '<class 'numpy.int64'>'\n",
      "\twith 3431196 stored elements in Compressed Sparse Row format>\n"
     ]
    }
   ],
   "source": [
    "X_train = vect.transform(text_train)\n",
    "print(repr(X_train))"
   ]
  },
  {
   "cell_type": "code",
   "execution_count": 16,
   "metadata": {},
   "outputs": [
    {
     "name": "stdout",
     "output_type": "stream",
     "text": [
      "특성개수 :  74849\n",
      "처음 20개 특성 :  ['00', '000', '0000000000001', '00001', '00015', '000s', '001', '003830', '006', '007', '0079', '0080', '0083', '0093638', '00am', '00pm', '00s', '01', '01pm', '02']\n",
      "매 2000번째 특성 :  ['00', 'aesir', 'aquarian', 'barking', 'blustering', 'bête', 'chicanery', 'condensing', 'cunning', 'detox', 'draper', 'enshrined', 'favorit', 'freezer', 'goldman', 'hasan', 'huitieme', 'intelligible', 'kantrowitz', 'lawful', 'maars', 'megalunged', 'mostey', 'norrland', 'padilla', 'pincher', 'promisingly', 'receptionist', 'rivals', 'schnaas', 'shunning', 'sparse', 'subset', 'temptations', 'treatises', 'unproven', 'walkman', 'xylophonist']\n"
     ]
    }
   ],
   "source": [
    "feature_names = vect.get_feature_names()\n",
    "print(\"특성개수 : \", len(feature_names))\n",
    "print(\"처음 20개 특성 : \", feature_names[:20])\n",
    "print('매 2000번째 특성 : ', feature_names[::2000])"
   ]
  },
  {
   "cell_type": "code",
   "execution_count": 17,
   "metadata": {},
   "outputs": [
    {
     "name": "stdout",
     "output_type": "stream",
     "text": [
      "크로스 밸리데이션 평균 점수 :  0.8812\n"
     ]
    }
   ],
   "source": [
    "from sklearn.model_selection import cross_val_score\n",
    "from sklearn.linear_model import LogisticRegression\n",
    "\n",
    "vect = CountVectorizer().fit(text_train,text_test)\n",
    "X_train = vect.transform(text_train)\n",
    "scores = cross_val_score(LogisticRegression(max_iter=1000),X_train,y_train,cv=5)\n",
    "print(\"크로스 밸리데이션 평균 점수 : {: .4f}\".format(np.mean(scores)))"
   ]
  },
  {
   "cell_type": "code",
   "execution_count": 18,
   "metadata": {},
   "outputs": [
    {
     "name": "stdout",
     "output_type": "stream",
     "text": [
      "크로스 밸리데이션 평균 점수 :  0.8793\n"
     ]
    }
   ],
   "source": [
    "vect = CountVectorizer(min_df=5).fit(text_train,text_test)\n",
    "X_train = vect.transform(text_train)\n",
    "scores = cross_val_score(LogisticRegression(max_iter=1000),X_train,y_train,cv=5)\n",
    "print(\"크로스 밸리데이션 평균 점수 : {: .4f}\".format(np.mean(scores)))"
   ]
  },
  {
   "cell_type": "code",
   "execution_count": 19,
   "metadata": {},
   "outputs": [
    {
     "name": "stdout",
     "output_type": "stream",
     "text": [
      "불용어 갯수 :  318\n",
      "매 10번째 불용어 :  ['two', 'always', 'whereupon', 'between', 'nothing', 'them', 'hence', 'must', 'beside', 'nobody', 'rather', 'each', 'fifteen', 'before', 'something', 'often', 'mostly', 'ever', 'whose', 'noone', 'formerly', 'it', 'somehow', 'onto', 'will', 'ours', 'their', 'therefore', 'hereby', 'has', 'the', 'have']\n"
     ]
    }
   ],
   "source": [
    "from sklearn.feature_extraction.text import ENGLISH_STOP_WORDS\n",
    "print(\"불용어 갯수 : \", len(ENGLISH_STOP_WORDS))\n",
    "print(\"매 10번째 불용어 : \", list(ENGLISH_STOP_WORDS)[::10])"
   ]
  },
  {
   "cell_type": "code",
   "execution_count": 20,
   "metadata": {},
   "outputs": [
    {
     "name": "stdout",
     "output_type": "stream",
     "text": [
      "불용어가 제거된 X_train :  <25000x26966 sparse matrix of type '<class 'numpy.int64'>'\n",
      "\twith 2149958 stored elements in Compressed Sparse Row format>\n"
     ]
    }
   ],
   "source": [
    "vect = CountVectorizer(min_df=5, stop_words='english').fit(text_train,text_test)\n",
    "X_train = vect.transform(text_train)\n",
    "print(\"불용어가 제거된 X_train : \", repr(X_train))"
   ]
  },
  {
   "cell_type": "code",
   "execution_count": 21,
   "metadata": {},
   "outputs": [
    {
     "name": "stdout",
     "output_type": "stream",
     "text": [
      "크로스 밸리데이션 평균 점수 :  0.8754\n"
     ]
    }
   ],
   "source": [
    "vect = CountVectorizer(min_df=5, stop_words='english').fit(text_train,text_test)\n",
    "X_train = vect.transform(text_train)\n",
    "scores = cross_val_score(LogisticRegression(max_iter=1000),X_train,y_train,cv=5)\n",
    "print(\"크로스 밸리데이션 평균 점수 : {: .4f}\".format(np.mean(scores)))"
   ]
  },
  {
   "cell_type": "code",
   "execution_count": null,
   "metadata": {},
   "outputs": [],
   "source": []
  }
 ],
 "metadata": {
  "kernelspec": {
   "display_name": "Python 3",
   "language": "python",
   "name": "python3"
  },
  "language_info": {
   "codemirror_mode": {
    "name": "ipython",
    "version": 3
   },
   "file_extension": ".py",
   "mimetype": "text/x-python",
   "name": "python",
   "nbconvert_exporter": "python",
   "pygments_lexer": "ipython3",
   "version": "3.8.3"
  }
 },
 "nbformat": 4,
 "nbformat_minor": 4
}
